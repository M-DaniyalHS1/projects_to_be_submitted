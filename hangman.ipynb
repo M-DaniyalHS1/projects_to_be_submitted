{
  "cells": [
    {
      "cell_type": "markdown",
      "metadata": {
        "id": "view-in-github",
        "colab_type": "text"
      },
      "source": [
        "<a href=\"https://colab.research.google.com/github/M-DaniyalHS1/projects_to_be_submitted/blob/main/hangman.ipynb\" target=\"_parent\"><img src=\"https://colab.research.google.com/assets/colab-badge.svg\" alt=\"Open In Colab\"/></a>"
      ]
    },
    {
      "cell_type": "code",
      "source": [
        "import random\n",
        "import string\n",
        "\n",
        "def get_valid_word():\n",
        "    word = random.choice(words)\n",
        "    while '-' in word or \" \" in word:\n",
        "        word = random.choice(words)\n",
        "    return word\n",
        "\n",
        "def hangman():\n",
        "    word = get_valid_word().upper()  # Convert word to uppercase\n",
        "    word_letters = set(word)  # Letters in the word\n",
        "    alphabet = set(string.ascii_uppercase)\n",
        "    used_letters = set()  # Track guessed letters\n",
        "\n",
        "    while len(word_letters) > 0:\n",
        "        # Show guessed letters\n",
        "        print('You have used these letters: ', ' '.join(sorted(used_letters)))\n",
        "\n",
        "        # Show current word\n",
        "        word_list = [letter if letter in used_letters else '-' for letter in word]\n",
        "        print('Current word: ', ''.join(word_list))\n",
        "\n",
        "        # Get user input\n",
        "        user_letter = input('Guess a letter: ').upper()\n",
        "        if user_letter in alphabet - used_letters:\n",
        "            used_letters.add(user_letter)\n",
        "            if user_letter in word_letters:\n",
        "                word_letters.remove(user_letter)\n",
        "\n",
        "        elif user_letter in used_letters:\n",
        "            print(f\"You have already used '{user_letter}'. Try another one.\")\n",
        "\n",
        "        else:\n",
        "            print(\"Invalid character. Try another letter.\")\n",
        "\n",
        "    print(f\"Congratulations! You've guessed the word '{word}' correctly.\")\n",
        "\n",
        "# Ensure `words` is defined properly before running the game.\n",
        "words = [\n",
        "    \"apple\", \"banana\", \"cherry\", \"date\", \"elderberry\", \"fig\", \"grape\", \"honeydew\", \"kiwi\", \"lemon\",\n",
        "    \"mango\", \"nectarine\", \"orange\", \"papaya\", \"quince\", \"raspberry\", \"strawberry\", \"tangerine\", \"ugli\", \"violet\",\n",
        "    \"watermelon\", \"xigua\", \"yam\", \"zucchini\", \"apricot\", \"blueberry\", \"cantaloupe\", \"dragonfruit\", \"eggplant\", \"figs\",\n",
        "    \"guava\", \"hazelnut\", \"indigo\", \"jackfruit\", \"kumquat\", \"lime\", \"melon\", \"nectar\", \"olive\", \"peach\",\n",
        "    \"plum\", \"quinoa\", \"radish\", \"squash\", \"tomato\", \"umbrella\", \"vanilla\", \"walnut\", \"xenon\", \"yellow\",\n",
        "    \"zebra\", \"amber\", \"bubble\", \"crystal\", \"diamond\", \"emerald\", \"flame\", \"glimmer\", \"horizon\", \"ignite\",\n",
        "    \"jewel\", \"kindle\", \"luster\", \"mirror\", \"nebula\", \"opal\", \"pearl\", \"quasar\", \"radiant\", \"sparkle\",\n",
        "    \"twinkle\", \"universe\", \"vortex\", \"whisper\", \"xylophone\", \"yonder\", \"zephyr\", \"ant\", \"bee\", \"cat\",\n",
        "    \"dog\", \"elephant\", \"fox\", \"goat\", \"horse\", \"iguana\", \"jaguar\", \"koala\", \"llama\", \"mouse\",\n",
        "    \"newt\", \"owl\", \"panda\", \"quail\", \"rabbit\", \"seal\", \"tiger\", \"urchin\", \"viper\", \"wolf\"\n",
        "] # Example words list\n",
        "\n",
        "\n",
        "hangman()\n"
      ],
      "metadata": {
        "id": "a5eSe801-Qn4",
        "outputId": "1b058442-3d97-439c-a47f-eb2691126f24",
        "colab": {
          "base_uri": "https://localhost:8080/"
        }
      },
      "execution_count": 1,
      "outputs": [
        {
          "output_type": "stream",
          "name": "stdout",
          "text": [
            "You have used these letters:  \n",
            "Current word:  -------\n",
            "Guess a letter: a\n",
            "You have used these letters:  A\n",
            "Current word:  -------\n",
            "Guess a letter: e\n",
            "You have used these letters:  A E\n",
            "Current word:  -----E-\n",
            "Guess a letter: i\n",
            "You have used these letters:  A E I\n",
            "Current word:  --I--E-\n",
            "Guess a letter: o\n",
            "You have used these letters:  A E I O\n",
            "Current word:  --I--E-\n",
            "Guess a letter: u\n",
            "You have used these letters:  A E I O U\n",
            "Current word:  --I--E-\n",
            "Guess a letter: l\n",
            "You have used these letters:  A E I L O U\n",
            "Current word:  --I--E-\n",
            "Guess a letter: m\n",
            "You have used these letters:  A E I L M O U\n",
            "Current word:  --I--E-\n",
            "Guess a letter: b\n",
            "You have used these letters:  A B E I L M O U\n",
            "Current word:  --I--E-\n",
            "Guess a letter: p\n",
            "You have used these letters:  A B E I L M O P U\n",
            "Current word:  --I-PE-\n",
            "Guess a letter: f\n",
            "You have used these letters:  A B E F I L M O P U\n",
            "Current word:  --I-PE-\n",
            "Guess a letter: s\n",
            "You have used these letters:  A B E F I L M O P S U\n",
            "Current word:  --ISPE-\n",
            "Guess a letter: r\n",
            "You have used these letters:  A B E F I L M O P R S U\n",
            "Current word:  --ISPER\n",
            "Guess a letter: w\n",
            "You have used these letters:  A B E F I L M O P R S U W\n",
            "Current word:  W-ISPER\n",
            "Guess a letter: h\n",
            "Congratulations! You've guessed the word 'WHISPER' correctly.\n"
          ]
        }
      ]
    },
    {
      "cell_type": "code",
      "source": [],
      "metadata": {
        "id": "E0nbWvwV-ur4"
      },
      "execution_count": null,
      "outputs": []
    }
  ],
  "metadata": {
    "colab": {
      "name": "Welcome To Colab",
      "provenance": [],
      "include_colab_link": true
    },
    "kernelspec": {
      "display_name": "Python 3",
      "name": "python3"
    }
  },
  "nbformat": 4,
  "nbformat_minor": 0
}